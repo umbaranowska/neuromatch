{
 "nbformat": 4,
 "nbformat_minor": 0,
 "metadata": {
  "colab": {
   "name": "continued: neuromatch downloading chunks to google drive",
   "provenance": [],
   "collapsed_sections": []
  },
  "kernelspec": {
   "name": "python3",
   "display_name": "Python 3"
  },
  "language_info": {
   "name": "python"
  }
 },
 "cells": [
  {
   "cell_type": "code",
   "source": [
    "# this notebook is for attempting to download meaningful chunks of the data for making comparisons without google colab crashing"
   ],
   "metadata": {
    "id": "0W1oXpfGdzGs",
    "pycharm": {
     "name": "#%%\n"
    }
   },
   "execution_count": 1,
   "outputs": []
  },
  {
   "cell_type": "code",
   "execution_count": 2,
   "metadata": {
    "id": "umyiV0g0qDIe",
    "colab": {
     "base_uri": "https://localhost:8080/"
    },
    "outputId": "4e36511a-ca33-4135-e56a-754fc5871c15",
    "pycharm": {
     "name": "#%%\n"
    }
   },
   "outputs": [
    {
     "output_type": "stream",
     "name": "stdout",
     "text": [
      "\u001B[33mWARNING: Running pip as the 'root' user can result in broken permissions and conflicting behaviour with the system package manager. It is recommended to use a virtual environment instead: https://pip.pypa.io/warnings/venv\u001B[0m\u001B[33m\n",
      "\u001B[0m\u001B[33mWARNING: Running pip as the 'root' user can result in broken permissions and conflicting behaviour with the system package manager. It is recommended to use a virtual environment instead: https://pip.pypa.io/warnings/venv\u001B[0m\u001B[33m\n",
      "\u001B[0m\u001B[33mWARNING: Running pip as the 'root' user can result in broken permissions and conflicting behaviour with the system package manager. It is recommended to use a virtual environment instead: https://pip.pypa.io/warnings/venv\u001B[0m\u001B[33m\n",
      "\u001B[0m"
     ]
    }
   ],
   "source": [
    "!python -m pip install --upgrade pip --quiet\n",
    "!pip install mindscope_utilities --upgrade --quiet\n",
    "!pip install icecream --quiet\n",
    "\n",
    "import pandas as pd\n",
    "import numpy as np\n",
    "from icecream import ic # icecream is an alternative to print useful for debugging code\n",
    "# https://github.com/gruns/icecream\n",
    "import matplotlib.pyplot as plt\n",
    "import seaborn as sns\n",
    "import os\n",
    "sns.set_theme(style=\"darkgrid\") # this just sets the plots theme (how plots look)\n",
    "# https://www.python-graph-gallery.com/104-seaborn-themes\n",
    "sns.set_palette('colorblind') # you can change the colors to something else if you want, I'm just honestly terrible at visual processing so I like this one\n",
    "# https://www.codecademy.com/article/seaborn-design-ii\n",
    "\n",
    "from allensdk.brain_observatory.behavior.behavior_project_cache import VisualBehaviorOphysProjectCache\n",
    "import mindscope_utilities.visual_behavior_ophys as ophys"
   ]
  },
  {
   "cell_type": "code",
   "source": [
    "cache = VisualBehaviorOphysProjectCache.from_s3_cache(cache_dir='data')\n",
    "session_table = cache.get_ophys_session_table()\n",
    "experiment_table = cache.get_ophys_experiment_table()\n",
    "experiment_table = experiment_table.reset_index()\n",
    "\n",
    "# from the experiment table we only want those where project_code is VisualBehaviorMultiscope\n",
    "multiscope_experiment_ids = experiment_table[experiment_table['project_code'] == 'VisualBehaviorMultiscope']['ophys_experiment_id'].tolist()\n",
    "multiscope_experiment_table = experiment_table[experiment_table['ophys_experiment_id'].isin(multiscope_experiment_ids)]\n",
    "\n",
    "# reminder: an experiment is a single imaging plane acquired in a single session\n",
    "# https://allensdk.readthedocs.io/en/latest/visual_behavior_optical_physiology.html"
   ],
   "metadata": {
    "id": "eyGmvOkRplDP",
    "pycharm": {
     "name": "#%%\n"
    }
   },
   "execution_count": 3,
   "outputs": []
  },
  {
   "cell_type": "code",
   "source": [
    "# this part is for connecting with google drive and saving data there so we don't need to download again\n",
    "# you might get a prompt asking you to authorize\n",
    "from google.colab import drive\n",
    "drive.mount('/content/gdrive')\n",
    "# https://towardsdatascience.com/downloading-datasets-into-google-drive-via-google-colab-bcb1b30b0166\n",
    "if not os.path.exists('/content/gdrive/MyDrive/neuromatch'):\n",
    "  os.mkdir('/content/gdrive/MyDrive/neuromatch')"
   ],
   "metadata": {
    "colab": {
     "base_uri": "https://localhost:8080/"
    },
    "id": "yJKZs7kRFr0R",
    "outputId": "917ad8ac-1f3d-465d-aca7-d415b8efedab",
    "pycharm": {
     "name": "#%%\n"
    }
   },
   "execution_count": 4,
   "outputs": [
    {
     "output_type": "stream",
     "name": "stdout",
     "text": [
      "Drive already mounted at /content/gdrive; to attempt to forcibly remount, call drive.mount(\"/content/gdrive\", force_remount=True).\n"
     ]
    }
   ]
  },
  {
   "cell_type": "code",
   "source": [
    "len(multiscope_experiment_ids) # how many multiscope experiments we have"
   ],
   "metadata": {
    "colab": {
     "base_uri": "https://localhost:8080/"
    },
    "id": "De9XbxoI-A4L",
    "outputId": "2ff3b271-82cf-46b4-8679-b1ebe489d7e7",
    "pycharm": {
     "name": "#%%\n"
    }
   },
   "execution_count": 5,
   "outputs": [
    {
     "output_type": "execute_result",
     "data": {
      "text/plain": [
       "867"
      ]
     },
     "metadata": {},
     "execution_count": 5
    }
   ]
  },
  {
   "cell_type": "code",
   "source": [
    "# narrowing down the data we need:\n",
    "# focus on layer 2/3 ('imaging_depth' >=175) & ('imaging_depth' <= 330)\n",
    "multiscope_experiment_table = multiscope_experiment_table[(multiscope_experiment_table['imaging_depth'] >=175) & (multiscope_experiment_table['imaging_depth'] <= 330)]\n",
    "multiscope_experiment_table.shape"
   ],
   "metadata": {
    "colab": {
     "base_uri": "https://localhost:8080/"
    },
    "id": "xcCXOjGqi8n5",
    "outputId": "da5b2812-e4ba-4905-bb7a-a765cb691dfa",
    "pycharm": {
     "name": "#%%\n"
    }
   },
   "execution_count": 6,
   "outputs": [
    {
     "output_type": "execute_result",
     "data": {
      "text/plain": [
       "(438, 26)"
      ]
     },
     "metadata": {},
     "execution_count": 6
    }
   ]
  },
  {
   "cell_type": "code",
   "source": [
    "# targeted_structure == 'VISp'\n",
    "multiscope_experiment_table = multiscope_experiment_table[multiscope_experiment_table['targeted_structure'] == 'VISp']\n",
    "multiscope_experiment_table.shape"
   ],
   "metadata": {
    "colab": {
     "base_uri": "https://localhost:8080/"
    },
    "id": "t0xxwIwQlTjS",
    "outputId": "8eda6c63-6378-4768-8b2d-34ce800e58f1",
    "pycharm": {
     "name": "#%%\n"
    }
   },
   "execution_count": 7,
   "outputs": [
    {
     "output_type": "execute_result",
     "data": {
      "text/plain": [
       "(205, 26)"
      ]
     },
     "metadata": {},
     "execution_count": 7
    }
   ]
  },
  {
   "cell_type": "code",
   "source": [
    "multiscope_experiment_table['mouse_id'].nunique()"
   ],
   "metadata": {
    "colab": {
     "base_uri": "https://localhost:8080/"
    },
    "id": "l3sYHEHBmBoS",
    "outputId": "9689af78-f262-4b19-e556-e1faa9d826d5",
    "pycharm": {
     "name": "#%%\n"
    }
   },
   "execution_count": 8,
   "outputs": [
    {
     "output_type": "execute_result",
     "data": {
      "text/plain": [
       "22"
      ]
     },
     "metadata": {},
     "execution_count": 8
    }
   ]
  },
  {
   "cell_type": "code",
   "source": [
    "multiscope_experiment_table['cre_line'].value_counts()"
   ],
   "metadata": {
    "colab": {
     "base_uri": "https://localhost:8080/"
    },
    "id": "SE7Smmq9mKZA",
    "outputId": "5cd5a638-efcc-4e8d-fc08-f4588eacb05e",
    "pycharm": {
     "name": "#%%\n"
    }
   },
   "execution_count": 9,
   "outputs": [
    {
     "output_type": "execute_result",
     "data": {
      "text/plain": [
       "Slc17a7-IRES2-Cre    86\n",
       "Sst-IRES-Cre         60\n",
       "Vip-IRES-Cre         59\n",
       "Name: cre_line, dtype: int64"
      ]
     },
     "metadata": {},
     "execution_count": 9
    }
   ]
  },
  {
   "cell_type": "code",
   "source": [
    "multiscope_experiment_table['session_type'].value_counts()"
   ],
   "metadata": {
    "colab": {
     "base_uri": "https://localhost:8080/"
    },
    "id": "mv94UELbmP-z",
    "outputId": "6e897707-bb0a-4848-ec38-8c6dc7efda18",
    "pycharm": {
     "name": "#%%\n"
    }
   },
   "execution_count": 10,
   "outputs": [
    {
     "output_type": "execute_result",
     "data": {
      "text/plain": [
       "OPHYS_4_images_B            42\n",
       "OPHYS_1_images_A            37\n",
       "OPHYS_3_images_A            36\n",
       "OPHYS_6_images_B            32\n",
       "OPHYS_2_images_A_passive    29\n",
       "OPHYS_5_images_B_passive    28\n",
       "OPHYS_2_images_B_passive     1\n",
       "Name: session_type, dtype: int64"
      ]
     },
     "metadata": {},
     "execution_count": 10
    }
   ]
  },
  {
   "cell_type": "code",
   "source": [
    "multiscope_experiment_table.columns"
   ],
   "metadata": {
    "colab": {
     "base_uri": "https://localhost:8080/"
    },
    "id": "r3NdW634p2zA",
    "outputId": "ecf9c59c-3eb0-41a8-e192-8852ac220ad6",
    "pycharm": {
     "name": "#%%\n"
    }
   },
   "execution_count": 11,
   "outputs": [
    {
     "output_type": "execute_result",
     "data": {
      "text/plain": [
       "Index(['ophys_experiment_id', 'equipment_name', 'full_genotype', 'mouse_id',\n",
       "       'reporter_line', 'driver_line', 'sex', 'age_in_days', 'cre_line',\n",
       "       'indicator', 'session_number', 'prior_exposures_to_session_type',\n",
       "       'prior_exposures_to_image_set', 'prior_exposures_to_omissions',\n",
       "       'ophys_session_id', 'behavior_session_id', 'ophys_container_id',\n",
       "       'project_code', 'imaging_depth', 'targeted_structure',\n",
       "       'date_of_acquisition', 'session_type', 'experience_level', 'passive',\n",
       "       'image_set', 'file_id'],\n",
       "      dtype='object')"
      ]
     },
     "metadata": {},
     "execution_count": 11
    }
   ]
  },
  {
   "cell_type": "code",
   "source": [
    "multiscope_experiment_table = multiscope_experiment_table[['ophys_experiment_id', 'ophys_session_id', 'ophys_container_id', \n",
    "                                                           'mouse_id', 'cre_line', 'session_type', 'imaging_depth', 'experience_level']]"
   ],
   "metadata": {
    "id": "VaW3E0XVptRw",
    "pycharm": {
     "name": "#%%\n"
    }
   },
   "execution_count": 12,
   "outputs": []
  },
  {
   "cell_type": "code",
   "source": [
    "multiscope_experiment_table.shape"
   ],
   "metadata": {
    "colab": {
     "base_uri": "https://localhost:8080/"
    },
    "id": "sFyNvOoXqOYY",
    "outputId": "5656ed86-01d0-45d4-c7cf-dafc92208958",
    "pycharm": {
     "name": "#%%\n"
    }
   },
   "execution_count": 13,
   "outputs": [
    {
     "output_type": "execute_result",
     "data": {
      "text/plain": [
       "(205, 8)"
      ]
     },
     "metadata": {},
     "execution_count": 13
    }
   ]
  },
  {
   "cell_type": "code",
   "source": [
    "multiscope_experiment_table['imaging_depth'].unique()"
   ],
   "metadata": {
    "colab": {
     "base_uri": "https://localhost:8080/"
    },
    "id": "TxXW0Xl25teV",
    "outputId": "15bf4682-efe5-4f69-ae61-031216471eb8",
    "pycharm": {
     "name": "#%%\n"
    }
   },
   "execution_count": 14,
   "outputs": [
    {
     "output_type": "execute_result",
     "data": {
      "text/plain": [
       "array([225, 263, 267, 269, 177, 259, 219, 221, 211, 231, 217, 213, 300,\n",
       "       306, 229, 298, 232, 175, 275, 285, 179, 270, 272, 251, 302, 227,\n",
       "       278, 274, 276, 223, 215, 218, 273, 261, 230, 284, 233, 304, 292,\n",
       "       235, 310, 280, 187, 183, 279, 320, 321, 228, 220, 322, 226, 315,\n",
       "       181])"
      ]
     },
     "metadata": {},
     "execution_count": 14
    }
   ]
  },
  {
   "cell_type": "code",
   "source": [
    "multiscope_experiment_table.groupby(['cre_line', 'experience_level', 'session_type'])['ophys_experiment_id'].count().reset_index()"
   ],
   "metadata": {
    "colab": {
     "base_uri": "https://localhost:8080/",
     "height": 707
    },
    "id": "QddQYFHF58hg",
    "outputId": "73fdea0e-0bf7-416c-b429-37d1d5e1985d",
    "pycharm": {
     "name": "#%%\n"
    }
   },
   "execution_count": 15,
   "outputs": [
    {
     "output_type": "execute_result",
     "data": {
      "text/plain": [
       "             cre_line experience_level              session_type  \\\n",
       "0   Slc17a7-IRES2-Cre         Familiar          OPHYS_1_images_A   \n",
       "1   Slc17a7-IRES2-Cre         Familiar  OPHYS_2_images_A_passive   \n",
       "2   Slc17a7-IRES2-Cre         Familiar          OPHYS_3_images_A   \n",
       "3   Slc17a7-IRES2-Cre          Novel 1          OPHYS_4_images_B   \n",
       "4   Slc17a7-IRES2-Cre         Novel >1          OPHYS_4_images_B   \n",
       "5   Slc17a7-IRES2-Cre         Novel >1  OPHYS_5_images_B_passive   \n",
       "6   Slc17a7-IRES2-Cre         Novel >1          OPHYS_6_images_B   \n",
       "7        Sst-IRES-Cre         Familiar          OPHYS_1_images_A   \n",
       "8        Sst-IRES-Cre         Familiar  OPHYS_2_images_A_passive   \n",
       "9        Sst-IRES-Cre         Familiar          OPHYS_3_images_A   \n",
       "10       Sst-IRES-Cre          Novel 1          OPHYS_4_images_B   \n",
       "11       Sst-IRES-Cre         Novel >1  OPHYS_5_images_B_passive   \n",
       "12       Sst-IRES-Cre         Novel >1          OPHYS_6_images_B   \n",
       "13       Vip-IRES-Cre         Familiar          OPHYS_1_images_A   \n",
       "14       Vip-IRES-Cre         Familiar  OPHYS_2_images_A_passive   \n",
       "15       Vip-IRES-Cre         Familiar  OPHYS_2_images_B_passive   \n",
       "16       Vip-IRES-Cre         Familiar          OPHYS_3_images_A   \n",
       "17       Vip-IRES-Cre          Novel 1          OPHYS_4_images_B   \n",
       "18       Vip-IRES-Cre         Novel >1          OPHYS_4_images_B   \n",
       "19       Vip-IRES-Cre         Novel >1  OPHYS_5_images_B_passive   \n",
       "20       Vip-IRES-Cre         Novel >1          OPHYS_6_images_B   \n",
       "\n",
       "    ophys_experiment_id  \n",
       "0                    14  \n",
       "1                    14  \n",
       "2                    16  \n",
       "3                    11  \n",
       "4                     8  \n",
       "5                    12  \n",
       "6                    11  \n",
       "7                    13  \n",
       "8                     7  \n",
       "9                    10  \n",
       "10                    8  \n",
       "11                    8  \n",
       "12                   14  \n",
       "13                   10  \n",
       "14                    8  \n",
       "15                    1  \n",
       "16                   10  \n",
       "17                    7  \n",
       "18                    8  \n",
       "19                    8  \n",
       "20                    7  "
      ],
      "text/html": [
       "\n",
       "  <div id=\"df-fc1d8083-080a-4c83-bb95-3f3cae2792e6\">\n",
       "    <div class=\"colab-df-container\">\n",
       "      <div>\n",
       "<style scoped>\n",
       "    .dataframe tbody tr th:only-of-type {\n",
       "        vertical-align: middle;\n",
       "    }\n",
       "\n",
       "    .dataframe tbody tr th {\n",
       "        vertical-align: top;\n",
       "    }\n",
       "\n",
       "    .dataframe thead th {\n",
       "        text-align: right;\n",
       "    }\n",
       "</style>\n",
       "<table border=\"1\" class=\"dataframe\">\n",
       "  <thead>\n",
       "    <tr style=\"text-align: right;\">\n",
       "      <th></th>\n",
       "      <th>cre_line</th>\n",
       "      <th>experience_level</th>\n",
       "      <th>session_type</th>\n",
       "      <th>ophys_experiment_id</th>\n",
       "    </tr>\n",
       "  </thead>\n",
       "  <tbody>\n",
       "    <tr>\n",
       "      <th>0</th>\n",
       "      <td>Slc17a7-IRES2-Cre</td>\n",
       "      <td>Familiar</td>\n",
       "      <td>OPHYS_1_images_A</td>\n",
       "      <td>14</td>\n",
       "    </tr>\n",
       "    <tr>\n",
       "      <th>1</th>\n",
       "      <td>Slc17a7-IRES2-Cre</td>\n",
       "      <td>Familiar</td>\n",
       "      <td>OPHYS_2_images_A_passive</td>\n",
       "      <td>14</td>\n",
       "    </tr>\n",
       "    <tr>\n",
       "      <th>2</th>\n",
       "      <td>Slc17a7-IRES2-Cre</td>\n",
       "      <td>Familiar</td>\n",
       "      <td>OPHYS_3_images_A</td>\n",
       "      <td>16</td>\n",
       "    </tr>\n",
       "    <tr>\n",
       "      <th>3</th>\n",
       "      <td>Slc17a7-IRES2-Cre</td>\n",
       "      <td>Novel 1</td>\n",
       "      <td>OPHYS_4_images_B</td>\n",
       "      <td>11</td>\n",
       "    </tr>\n",
       "    <tr>\n",
       "      <th>4</th>\n",
       "      <td>Slc17a7-IRES2-Cre</td>\n",
       "      <td>Novel &gt;1</td>\n",
       "      <td>OPHYS_4_images_B</td>\n",
       "      <td>8</td>\n",
       "    </tr>\n",
       "    <tr>\n",
       "      <th>5</th>\n",
       "      <td>Slc17a7-IRES2-Cre</td>\n",
       "      <td>Novel &gt;1</td>\n",
       "      <td>OPHYS_5_images_B_passive</td>\n",
       "      <td>12</td>\n",
       "    </tr>\n",
       "    <tr>\n",
       "      <th>6</th>\n",
       "      <td>Slc17a7-IRES2-Cre</td>\n",
       "      <td>Novel &gt;1</td>\n",
       "      <td>OPHYS_6_images_B</td>\n",
       "      <td>11</td>\n",
       "    </tr>\n",
       "    <tr>\n",
       "      <th>7</th>\n",
       "      <td>Sst-IRES-Cre</td>\n",
       "      <td>Familiar</td>\n",
       "      <td>OPHYS_1_images_A</td>\n",
       "      <td>13</td>\n",
       "    </tr>\n",
       "    <tr>\n",
       "      <th>8</th>\n",
       "      <td>Sst-IRES-Cre</td>\n",
       "      <td>Familiar</td>\n",
       "      <td>OPHYS_2_images_A_passive</td>\n",
       "      <td>7</td>\n",
       "    </tr>\n",
       "    <tr>\n",
       "      <th>9</th>\n",
       "      <td>Sst-IRES-Cre</td>\n",
       "      <td>Familiar</td>\n",
       "      <td>OPHYS_3_images_A</td>\n",
       "      <td>10</td>\n",
       "    </tr>\n",
       "    <tr>\n",
       "      <th>10</th>\n",
       "      <td>Sst-IRES-Cre</td>\n",
       "      <td>Novel 1</td>\n",
       "      <td>OPHYS_4_images_B</td>\n",
       "      <td>8</td>\n",
       "    </tr>\n",
       "    <tr>\n",
       "      <th>11</th>\n",
       "      <td>Sst-IRES-Cre</td>\n",
       "      <td>Novel &gt;1</td>\n",
       "      <td>OPHYS_5_images_B_passive</td>\n",
       "      <td>8</td>\n",
       "    </tr>\n",
       "    <tr>\n",
       "      <th>12</th>\n",
       "      <td>Sst-IRES-Cre</td>\n",
       "      <td>Novel &gt;1</td>\n",
       "      <td>OPHYS_6_images_B</td>\n",
       "      <td>14</td>\n",
       "    </tr>\n",
       "    <tr>\n",
       "      <th>13</th>\n",
       "      <td>Vip-IRES-Cre</td>\n",
       "      <td>Familiar</td>\n",
       "      <td>OPHYS_1_images_A</td>\n",
       "      <td>10</td>\n",
       "    </tr>\n",
       "    <tr>\n",
       "      <th>14</th>\n",
       "      <td>Vip-IRES-Cre</td>\n",
       "      <td>Familiar</td>\n",
       "      <td>OPHYS_2_images_A_passive</td>\n",
       "      <td>8</td>\n",
       "    </tr>\n",
       "    <tr>\n",
       "      <th>15</th>\n",
       "      <td>Vip-IRES-Cre</td>\n",
       "      <td>Familiar</td>\n",
       "      <td>OPHYS_2_images_B_passive</td>\n",
       "      <td>1</td>\n",
       "    </tr>\n",
       "    <tr>\n",
       "      <th>16</th>\n",
       "      <td>Vip-IRES-Cre</td>\n",
       "      <td>Familiar</td>\n",
       "      <td>OPHYS_3_images_A</td>\n",
       "      <td>10</td>\n",
       "    </tr>\n",
       "    <tr>\n",
       "      <th>17</th>\n",
       "      <td>Vip-IRES-Cre</td>\n",
       "      <td>Novel 1</td>\n",
       "      <td>OPHYS_4_images_B</td>\n",
       "      <td>7</td>\n",
       "    </tr>\n",
       "    <tr>\n",
       "      <th>18</th>\n",
       "      <td>Vip-IRES-Cre</td>\n",
       "      <td>Novel &gt;1</td>\n",
       "      <td>OPHYS_4_images_B</td>\n",
       "      <td>8</td>\n",
       "    </tr>\n",
       "    <tr>\n",
       "      <th>19</th>\n",
       "      <td>Vip-IRES-Cre</td>\n",
       "      <td>Novel &gt;1</td>\n",
       "      <td>OPHYS_5_images_B_passive</td>\n",
       "      <td>8</td>\n",
       "    </tr>\n",
       "    <tr>\n",
       "      <th>20</th>\n",
       "      <td>Vip-IRES-Cre</td>\n",
       "      <td>Novel &gt;1</td>\n",
       "      <td>OPHYS_6_images_B</td>\n",
       "      <td>7</td>\n",
       "    </tr>\n",
       "  </tbody>\n",
       "</table>\n",
       "</div>\n",
       "      <button class=\"colab-df-convert\" onclick=\"convertToInteractive('df-fc1d8083-080a-4c83-bb95-3f3cae2792e6')\"\n",
       "              title=\"Convert this dataframe to an interactive table.\"\n",
       "              style=\"display:none;\">\n",
       "        \n",
       "  <svg xmlns=\"http://www.w3.org/2000/svg\" height=\"24px\"viewBox=\"0 0 24 24\"\n",
       "       width=\"24px\">\n",
       "    <path d=\"M0 0h24v24H0V0z\" fill=\"none\"/>\n",
       "    <path d=\"M18.56 5.44l.94 2.06.94-2.06 2.06-.94-2.06-.94-.94-2.06-.94 2.06-2.06.94zm-11 1L8.5 8.5l.94-2.06 2.06-.94-2.06-.94L8.5 2.5l-.94 2.06-2.06.94zm10 10l.94 2.06.94-2.06 2.06-.94-2.06-.94-.94-2.06-.94 2.06-2.06.94z\"/><path d=\"M17.41 7.96l-1.37-1.37c-.4-.4-.92-.59-1.43-.59-.52 0-1.04.2-1.43.59L10.3 9.45l-7.72 7.72c-.78.78-.78 2.05 0 2.83L4 21.41c.39.39.9.59 1.41.59.51 0 1.02-.2 1.41-.59l7.78-7.78 2.81-2.81c.8-.78.8-2.07 0-2.86zM5.41 20L4 18.59l7.72-7.72 1.47 1.35L5.41 20z\"/>\n",
       "  </svg>\n",
       "      </button>\n",
       "      \n",
       "  <style>\n",
       "    .colab-df-container {\n",
       "      display:flex;\n",
       "      flex-wrap:wrap;\n",
       "      gap: 12px;\n",
       "    }\n",
       "\n",
       "    .colab-df-convert {\n",
       "      background-color: #E8F0FE;\n",
       "      border: none;\n",
       "      border-radius: 50%;\n",
       "      cursor: pointer;\n",
       "      display: none;\n",
       "      fill: #1967D2;\n",
       "      height: 32px;\n",
       "      padding: 0 0 0 0;\n",
       "      width: 32px;\n",
       "    }\n",
       "\n",
       "    .colab-df-convert:hover {\n",
       "      background-color: #E2EBFA;\n",
       "      box-shadow: 0px 1px 2px rgba(60, 64, 67, 0.3), 0px 1px 3px 1px rgba(60, 64, 67, 0.15);\n",
       "      fill: #174EA6;\n",
       "    }\n",
       "\n",
       "    [theme=dark] .colab-df-convert {\n",
       "      background-color: #3B4455;\n",
       "      fill: #D2E3FC;\n",
       "    }\n",
       "\n",
       "    [theme=dark] .colab-df-convert:hover {\n",
       "      background-color: #434B5C;\n",
       "      box-shadow: 0px 1px 3px 1px rgba(0, 0, 0, 0.15);\n",
       "      filter: drop-shadow(0px 1px 2px rgba(0, 0, 0, 0.3));\n",
       "      fill: #FFFFFF;\n",
       "    }\n",
       "  </style>\n",
       "\n",
       "      <script>\n",
       "        const buttonEl =\n",
       "          document.querySelector('#df-fc1d8083-080a-4c83-bb95-3f3cae2792e6 button.colab-df-convert');\n",
       "        buttonEl.style.display =\n",
       "          google.colab.kernel.accessAllowed ? 'block' : 'none';\n",
       "\n",
       "        async function convertToInteractive(key) {\n",
       "          const element = document.querySelector('#df-fc1d8083-080a-4c83-bb95-3f3cae2792e6');\n",
       "          const dataTable =\n",
       "            await google.colab.kernel.invokeFunction('convertToInteractive',\n",
       "                                                     [key], {});\n",
       "          if (!dataTable) return;\n",
       "\n",
       "          const docLinkHtml = 'Like what you see? Visit the ' +\n",
       "            '<a target=\"_blank\" href=https://colab.research.google.com/notebooks/data_table.ipynb>data table notebook</a>'\n",
       "            + ' to learn more about interactive tables.';\n",
       "          element.innerHTML = '';\n",
       "          dataTable['output_type'] = 'display_data';\n",
       "          await google.colab.output.renderOutput(dataTable, element);\n",
       "          const docLink = document.createElement('div');\n",
       "          docLink.innerHTML = docLinkHtml;\n",
       "          element.appendChild(docLink);\n",
       "        }\n",
       "      </script>\n",
       "    </div>\n",
       "  </div>\n",
       "  "
      ]
     },
     "metadata": {},
     "execution_count": 15
    }
   ]
  },
  {
   "cell_type": "code",
   "source": [
    "multiscope_experiment_table.experience_level.unique()"
   ],
   "metadata": {
    "colab": {
     "base_uri": "https://localhost:8080/"
    },
    "id": "-Q6mi3G18RuI",
    "outputId": "a9a536e4-1c56-4719-c95b-9cd472c100ea",
    "pycharm": {
     "name": "#%%\n"
    }
   },
   "execution_count": 16,
   "outputs": [
    {
     "output_type": "execute_result",
     "data": {
      "text/plain": [
       "array(['Familiar', 'Novel 1', 'Novel >1'], dtype=object)"
      ]
     },
     "metadata": {},
     "execution_count": 16
    }
   ]
  },
  {
   "cell_type": "code",
   "source": [
    "multiscope_experiment_table.to_csv('/content/gdrive/MyDrive/neuromatch/multiscope_experiment_table_filtered.csv')"
   ],
   "metadata": {
    "id": "D15ZSvnEMRsr",
    "pycharm": {
     "name": "#%%\n"
    }
   },
   "execution_count": 17,
   "outputs": []
  },
  {
   "cell_type": "code",
   "source": [
    "  multiscope_experiment_table[(multiscope_experiment_table['cre_line'] == 'Sst-IRES-Cre') &\n",
    "                              (multiscope_experiment_table['experience_level'] == 'Familiar') &\n",
    "                              (multiscope_experiment_table['session_type'] == 'OPHYS_2_images_A_passive')]['ophys_experiment_id'].tolist()"
   ],
   "metadata": {
    "colab": {
     "base_uri": "https://localhost:8080/"
    },
    "id": "r43adk5ImMAw",
    "outputId": "ab40f4ba-c1a4-4fbe-d3fd-7de8cbaf5912",
    "pycharm": {
     "name": "#%%\n"
    }
   },
   "execution_count": 18,
   "outputs": [
    {
     "output_type": "execute_result",
     "data": {
      "text/plain": [
       "[953659743, 1081264133, 1081264129, 867410509, 977247468, 851093285, 857698006]"
      ]
     },
     "metadata": {},
     "execution_count": 18
    }
   ]
  },
  {
   "cell_type": "code",
   "source": [
    "def download_data_chunk_to_google_drive(multiscope_experiment_table,\n",
    "                                        cre_line : str,\n",
    "                                        experience_level : str,\n",
    "                                        session_type : str,\n",
    "                                        data_type : str = 'neural_data'):\n",
    "  \n",
    "  \"\"\"\n",
    "  Function that downloads data and saves it to google drive.\n",
    "\n",
    "    Args:\n",
    "      cre_line (str) : one of 'Sst-IRES-Cre', 'Vip-IRES-Cre', 'Slc17a7-IRES2-Cre'\n",
    "      experience_level (str) : one of 'Familiar', 'Novel 1', 'Novel >1'\n",
    "      session_type (str): one of 'OPHYS_1_images_A', 'OPHYS_2_images_A_passive', 'OPHYS_3_images_A',\n",
    "        'OPHYS_4_images_B', 'OPHYS_5_images_B_passive', 'OPHYS_6_images_B', 'OPHYS_2_images_B_passive'\n",
    "      data_type (str): one of 'neural_data', 'stimulus_presentations', 'eye_tracking', 'trials'\n",
    "\n",
    "    Returns:   \n",
    "      nothing, saves data files to google drive\n",
    "  \"\"\"\n",
    "\n",
    "  drive_folder = f'/content/gdrive/MyDrive/neuromatch/{cre_line}_{experience_level}_{session_type}'\n",
    "  if not os.path.exists(drive_folder):\n",
    "    os.mkdir(drive_folder)\n",
    "  \n",
    "  ic(cre_line, experience_level, session_type, data_type)\n",
    "  selected_experiments_ids = \\\n",
    "  multiscope_experiment_table[(multiscope_experiment_table['cre_line'] == cre_line) &\n",
    "                              (multiscope_experiment_table['experience_level'] == experience_level) &\n",
    "                              (multiscope_experiment_table['session_type'] == session_type)]['ophys_experiment_id'].tolist()\n",
    "  ic(selected_experiments_ids)\n",
    "\n",
    "  metadata_keys = ['cre_line', 'imaging_depth', 'mouse_id', 'ophys_experiment_id', 'session_type', 'targeted_structure', 'ophys_session_id']\n",
    "\n",
    "  if data_type == 'neural_data':\n",
    "    try:\n",
    "      all_neural_data = []\n",
    "      for id in selected_experiments_ids:\n",
    "        \n",
    "        ic('EXPERIMENT', id)\n",
    "        experiment = cache.get_behavior_ophys_experiment(id)\n",
    "\n",
    "        neural_data = ophys.build_tidy_cell_df(experiment)\n",
    "        for metadata_key in metadata_keys:\n",
    "          neural_data[metadata_key] = experiment.metadata[metadata_key]\n",
    "        all_neural_data.append(neural_data)\n",
    "        ic(neural_data.shape)\n",
    "        del neural_data\n",
    "\n",
    "      all_neural_data = pd.concat(all_neural_data).reset_index()\n",
    "      ic(all_neural_data.shape)\n",
    "      all_neural_data.to_csv(f'{drive_folder}/neural_data.csv')\n",
    "      del all_neural_data\n",
    "    except:\n",
    "      pass\n",
    "    \n",
    "  if data_type == 'stimulus_presentations':\n",
    "    try:\n",
    "      all_stimulus_presentations = []\n",
    "      for id in selected_experiments_ids:\n",
    "        \n",
    "        ic('EXPERIMENT', id)\n",
    "        experiment = cache.get_behavior_ophys_experiment(id)\n",
    "\n",
    "        stimulus_presentations = experiment.stimulus_presentations.reset_index().drop(columns = ['image_set'])\n",
    "        stimulus_presentations.insert(0, 'ophys_experiment_id', [id for i in range(stimulus_presentations.shape[0])])\n",
    "        all_stimulus_presentations.append(stimulus_presentations)\n",
    "        ic(stimulus_presentations.shape)\n",
    "        del stimulus_presentations\n",
    "\n",
    "      all_stimulus_presentations = pd.concat(all_stimulus_presentations).reset_index()\n",
    "      ic(all_stimulus_presentations.shape)\n",
    "      all_stimulus_presentations.to_csv(f'{drive_folder}/stimulus_presentations.csv')\n",
    "      del all_stimulus_presentations\n",
    "    except:\n",
    "      pass\n",
    "\n",
    "  if data_type == 'eye_tracking':\n",
    "    try:\n",
    "      all_eye_tracking = []\n",
    "      for id in selected_experiments_ids:\n",
    "        \n",
    "        ic('EXPERIMENT', id)\n",
    "        experiment = cache.get_behavior_ophys_experiment(id)\n",
    "\n",
    "        eye_tracking = experiment.eye_tracking.reset_index()\n",
    "        eye_tracking = eye_tracking[['frame', 'timestamps', 'pupil_area',\n",
    "            'likely_blink']]\n",
    "        eye_tracking.insert(0, 'ophys_experiment_id', [id for i in range(eye_tracking.shape[0])])\n",
    "        all_eye_tracking.append(eye_tracking)\n",
    "        ic(eye_tracking.shape)\n",
    "        del eye_tracking\n",
    "      \n",
    "      all_eye_tracking = pd.concat(all_eye_tracking).reset_index()\n",
    "      ic(all_eye_tracking.shape)\n",
    "      all_eye_tracking.to_csv(f'{drive_folder}/eye_tracking.csv')\n",
    "      del all_eye_tracking\n",
    "    except:\n",
    "      pass\n",
    "\n",
    "  if data_type == 'trials':\n",
    "    try:\n",
    "      all_trials =[]\n",
    "      for id in selected_experiments_ids:\n",
    "        \n",
    "        ic('EXPERIMENT', id)\n",
    "        experiment = cache.get_behavior_ophys_experiment(id)\n",
    "\n",
    "        trials = experiment.trials.reset_index()\n",
    "        trials.insert(0, 'ophys_experiment_id', [id for i in range(trials.shape[0])])\n",
    "        all_trials.append(trials)\n",
    "        ic(trials.shape)\n",
    "        del trials\n",
    "\n",
    "      all_trials = pd.concat(all_trials).reset_index()\n",
    "      ic(all_trials.shape)\n",
    "      all_trials.to_csv(f'{drive_folder}/trials.csv')\n",
    "      del all_trials\n",
    "    except:\n",
    "      pass"
   ],
   "metadata": {
    "id": "MOVdiEW3ZVEw",
    "pycharm": {
     "name": "#%%\n"
    }
   },
   "execution_count": 19,
   "outputs": []
  },
  {
   "cell_type": "code",
   "source": [
    "for c in ['Sst-IRES-Cre', 'Vip-IRES-Cre', 'Slc17a7-IRES2-Cre']:\n",
    "  for e in ['Familiar', 'Novel 1', 'Novel >1']:\n",
    "    for s in ['OPHYS_1_images_A', 'OPHYS_2_images_A_passive', 'OPHYS_3_images_A', 'OPHYS_4_images_B', 'OPHYS_5_images_B_passive', 'OPHYS_6_images_B', 'OPHYS_2_images_B_passive']:\n",
    "      for d in ['neural_data', 'stimulus_presentations', 'eye_tracking', 'trials']:\n",
    "        download_data_chunk_to_google_drive(multiscope_experiment_table, cre_line = c, experience_level = e, session_type = s, data_type = d)"
   ],
   "metadata": {
    "colab": {
     "base_uri": "https://localhost:8080/"
    },
    "id": "UJiivswPf1wx",
    "outputId": "a0884a3d-beaf-4d28-b54c-a2fec013e46f",
    "pycharm": {
     "name": "#%%\n"
    }
   },
   "execution_count": null,
   "outputs": [
    {
     "output_type": "stream",
     "name": "stderr",
     "text": [
      "ic| cre_line: 'Sst-IRES-Cre'\n",
      "    experience_level: 'Familiar'\n",
      "    session_type: 'OPHYS_1_images_A'\n",
      "    data_type: 'neural_data'\n",
      "ic| selected_experiments_ids: [951980473,\n",
      "                               1080945465,\n",
      "                               1080945462,\n",
      "                               1076531974,\n",
      "                               1076531978,\n",
      "                               866518314,\n",
      "                               868870085,\n",
      "                               975608390,\n",
      "                               975608394,\n",
      "                               976300295,\n",
      "                               976300299,\n",
      "                               850517344,\n",
      "                               850517346]\n",
      "ic| 'EXPERIMENT', id: 951980473\n",
      "ic| neural_data.shape: (579792, 13)\n",
      "ic| 'EXPERIMENT', id: 1080945465\n",
      "ic| cre_line: 'Sst-IRES-Cre'\n",
      "    experience_level: 'Familiar'\n",
      "    session_type: 'OPHYS_1_images_A'\n",
      "    data_type: 'stimulus_presentations'\n",
      "ic| selected_experiments_ids: [951980473,\n",
      "                               1080945465,\n",
      "                               1080945462,\n",
      "                               1076531974,\n",
      "                               1076531978,\n",
      "                               866518314,\n",
      "                               868870085,\n",
      "                               975608390,\n",
      "                               975608394,\n",
      "                               976300295,\n",
      "                               976300299,\n",
      "                               850517344,\n",
      "                               850517346]\n",
      "ic| 'EXPERIMENT', id: 951980473\n",
      "ic| stimulus_presentations.shape: (4801, 11)\n",
      "ic| 'EXPERIMENT', id: 1080945465\n",
      "ic| cre_line: 'Sst-IRES-Cre'\n",
      "    experience_level: 'Familiar'\n",
      "    session_type: 'OPHYS_1_images_A'\n",
      "    data_type: 'eye_tracking'\n",
      "ic| selected_experiments_ids: [951980473,\n",
      "                               1080945465,\n",
      "                               1080945462,\n",
      "                               1076531974,\n",
      "                               1076531978,\n",
      "                               866518314,\n",
      "                               868870085,\n",
      "                               975608390,\n",
      "                               975608394,\n",
      "                               976300295,\n",
      "                               976300299,\n",
      "                               850517344,\n",
      "                               850517346]\n",
      "ic| 'EXPERIMENT', id: 951980473\n",
      "ic| eye_tracking.shape: (135805, 5)\n",
      "ic| 'EXPERIMENT', id: 1080945465\n",
      "ic| cre_line: 'Sst-IRES-Cre'\n",
      "    experience_level: 'Familiar'\n",
      "    session_type: 'OPHYS_1_images_A'\n",
      "    data_type: 'trials'\n",
      "ic| selected_experiments_ids: [951980473,\n",
      "                               1080945465,\n",
      "                               1080945462,\n",
      "                               1076531974,\n",
      "                               1076531978,\n",
      "                               866518314,\n",
      "                               868870085,\n",
      "                               975608390,\n",
      "                               975608394,\n",
      "                               976300295,\n",
      "                               976300299,\n",
      "                               850517344,\n",
      "                               850517346]\n",
      "ic| 'EXPERIMENT', id: 951980473\n",
      "ic| trials.shape: (759, 23)\n",
      "ic| 'EXPERIMENT', id: 1080945465\n",
      "ic| cre_line: 'Sst-IRES-Cre'\n",
      "    experience_level: 'Familiar'\n",
      "    session_type: 'OPHYS_2_images_A_passive'\n",
      "    data_type: 'neural_data'\n",
      "ic| selected_experiments_ids: [953659743, 1081264133, 1081264129, 867410509, 977247468, 851093285, 857698006]\n",
      "ic| 'EXPERIMENT', id: 953659743\n",
      "ic| neural_data.shape: (628316, 13)\n",
      "ic| 'EXPERIMENT', id: 1081264133\n",
      "ic| neural_data.shape: (289368, 13)\n",
      "ic| 'EXPERIMENT', id: 1081264129\n",
      "ic| neural_data.shape: (530508, 13)\n",
      "ic| 'EXPERIMENT', id: 867410509\n",
      "ic| neural_data.shape: (289962, 13)\n",
      "ic| 'EXPERIMENT', id: 977247468\n",
      "ic| neural_data.shape: (724995, 13)\n",
      "ic| 'EXPERIMENT', id: 851093285\n",
      "ic| neural_data.shape: (966680, 13)\n",
      "ic| 'EXPERIMENT', id: 857698006\n",
      "ic| neural_data.shape: (241655, 13)\n",
      "ic| all_neural_data.shape: (3671484, 14)\n",
      "ic| cre_line: 'Sst-IRES-Cre'\n",
      "    experience_level: 'Familiar'\n",
      "    session_type: 'OPHYS_2_images_A_passive'\n",
      "    data_type: 'stimulus_presentations'\n",
      "ic| selected_experiments_ids: [953659743, 1081264133, 1081264129, 867410509, 977247468, 851093285, 857698006]\n",
      "ic| 'EXPERIMENT', id: 953659743\n",
      "ic| stimulus_presentations.shape: (4803, 11)\n",
      "ic| 'EXPERIMENT', id: 1081264133\n",
      "ic| stimulus_presentations.shape: (4809, 11)\n",
      "ic| 'EXPERIMENT', id: 1081264129\n",
      "ic| stimulus_presentations.shape: (4809, 11)\n",
      "ic| 'EXPERIMENT', id: 867410509\n",
      "ic| stimulus_presentations.shape: (4805, 11)\n",
      "ic| 'EXPERIMENT', id: 977247468\n",
      "ic| stimulus_presentations.shape: (4804, 11)\n",
      "ic| 'EXPERIMENT', id: 851093285\n",
      "ic| stimulus_presentations.shape: (4805, 11)\n",
      "ic| 'EXPERIMENT', id: 857698006\n",
      "ic| stimulus_presentations.shape: (4804, 11)\n",
      "ic| all_stimulus_presentations.shape: (33639, 12)\n",
      "ic| cre_line: 'Sst-IRES-Cre'\n",
      "    experience_level: 'Familiar'\n",
      "    session_type: 'OPHYS_2_images_A_passive'\n",
      "    data_type: 'eye_tracking'\n",
      "ic| selected_experiments_ids: [953659743, 1081264133, 1081264129, 867410509, 977247468, 851093285, 857698006]\n",
      "ic| 'EXPERIMENT', id: 953659743\n",
      "ic| eye_tracking.shape: (138263, 5)\n",
      "ic| 'EXPERIMENT', id: 1081264133\n",
      "ic| eye_tracking.shape: (138551, 5)\n",
      "ic| 'EXPERIMENT', id: 1081264129\n",
      "ic| eye_tracking.shape: (138551, 5)\n",
      "ic| 'EXPERIMENT', id: 867410509\n",
      "ic| eye_tracking.shape: (136503, 5)\n",
      "ic| 'EXPERIMENT', id: 977247468\n",
      "ic| eye_tracking.shape: (136048, 5)\n",
      "ic| 'EXPERIMENT', id: 851093285\n",
      "ic| eye_tracking.shape: (146491, 5)\n",
      "ic| 'EXPERIMENT', id: 857698006\n",
      "ic| eye_tracking.shape: (135925, 5)\n",
      "ic| all_eye_tracking.shape: (970332, 6)\n",
      "ic| cre_line: 'Sst-IRES-Cre'\n",
      "    experience_level: 'Familiar'\n",
      "    session_type: 'OPHYS_2_images_A_passive'\n",
      "    data_type: 'trials'\n",
      "ic| selected_experiments_ids: [953659743, 1081264133, 1081264129, 867410509, 977247468, 851093285, 857698006]\n",
      "ic| 'EXPERIMENT', id: 953659743\n",
      "ic| trials.shape: (406, 23)\n",
      "ic| 'EXPERIMENT', id: 1081264133\n",
      "ic| trials.shape: (408, 23)\n",
      "ic| 'EXPERIMENT', id: 1081264129\n",
      "ic| trials.shape: (408, 23)\n",
      "ic| 'EXPERIMENT', id: 867410509\n",
      "ic| trials.shape: (411, 23)\n",
      "ic| 'EXPERIMENT', id: 977247468\n",
      "ic| trials.shape: (403, 23)\n",
      "ic| 'EXPERIMENT', id: 851093285\n",
      "ic| trials.shape: (403, 23)\n",
      "ic| 'EXPERIMENT', id: 857698006\n",
      "ic| trials.shape: (400, 23)\n",
      "ic| all_trials.shape: (2839, 24)\n",
      "ic| cre_line: 'Sst-IRES-Cre'\n",
      "    experience_level: 'Familiar'\n",
      "    session_type: 'OPHYS_3_images_A'\n",
      "    data_type: 'neural_data'\n",
      "ic| selected_experiments_ids: [958527471,\n",
      "                               956941844,\n",
      "                               958741222,\n",
      "                               1076808562,\n",
      "                               1076808559,\n",
      "                               871196365,\n",
      "                               977978319,\n",
      "                               977978323,\n",
      "                               856123119,\n",
      "                               856123117]\n",
      "ic| 'EXPERIMENT', id: 958527471\n",
      "/usr/local/lib/python3.7/dist-packages/allensdk/brain_observatory/behavior/data_objects/stimuli/presentations.py:81: SettingWithCopyWarning: \n",
      "A value is trying to be set on a copy of a slice from a DataFrame.\n",
      "Try using .loc[row_indexer,col_indexer] = value instead\n",
      "\n",
      "See the caveats in the documentation: https://pandas.pydata.org/pandas-docs/stable/user_guide/indexing.html#returning-a-view-versus-a-copy\n",
      "  df['is_change'] = is_change_event(stimulus_presentations=df)\n",
      "ic| neural_data.shape: (483320, 13)\n",
      "ic| 'EXPERIMENT', id: 956941844\n",
      "ic| neural_data.shape: (821899, 13)\n",
      "ic| 'EXPERIMENT', id: 958741222\n",
      "ic| neural_data.shape: (773200, 13)\n",
      "ic| 'EXPERIMENT', id: 1076808562\n",
      "ic| neural_data.shape: (530167, 13)\n",
      "ic| 'EXPERIMENT', id: 1076808559\n",
      "ic| neural_data.shape: (240985, 13)\n",
      "ic| 'EXPERIMENT', id: 871196365\n",
      "ic| neural_data.shape: (482670, 13)\n",
      "ic| 'EXPERIMENT', id: 977978319\n",
      "ic| neural_data.shape: (337988, 13)\n",
      "ic| 'EXPERIMENT', id: 977978323\n",
      "ic| neural_data.shape: (869112, 13)\n",
      "ic| 'EXPERIMENT', id: 856123119\n",
      "ic| neural_data.shape: (772944, 13)\n",
      "ic| 'EXPERIMENT', id: 856123117\n",
      "ic| neural_data.shape: (193236, 13)\n",
      "ic| all_neural_data.shape: (5505521, 14)\n",
      "ic| cre_line: 'Sst-IRES-Cre'\n",
      "    experience_level: 'Familiar'\n",
      "    session_type: 'OPHYS_3_images_A'\n",
      "    data_type: 'stimulus_presentations'\n",
      "ic| selected_experiments_ids: [958527471,\n",
      "                               956941844,\n",
      "                               958741222,\n",
      "                               1076808562,\n",
      "                               1076808559,\n",
      "                               871196365,\n",
      "                               977978319,\n",
      "                               977978323,\n",
      "                               856123119,\n",
      "                               856123117]\n",
      "ic| 'EXPERIMENT', id: 958527471\n",
      "ic| stimulus_presentations.shape: (4803, 11)\n",
      "ic| 'EXPERIMENT', id: 956941844\n",
      "ic| stimulus_presentations.shape: (4805, 11)\n",
      "ic| 'EXPERIMENT', id: 958741222\n",
      "ic| stimulus_presentations.shape: (4802, 11)\n",
      "ic| 'EXPERIMENT', id: 1076808562\n",
      "ic| stimulus_presentations.shape: (4805, 11)\n",
      "ic| 'EXPERIMENT', id: 1076808559\n",
      "ic| stimulus_presentations.shape: (4805, 11)\n",
      "ic| 'EXPERIMENT', id: 871196365\n",
      "ic| stimulus_presentations.shape: (4798, 11)\n",
      "ic| 'EXPERIMENT', id: 977978319\n",
      "ic| stimulus_presentations.shape: (4797, 11)\n",
      "ic| 'EXPERIMENT', id: 977978323\n",
      "ic| stimulus_presentations.shape: (4797, 11)\n",
      "ic| 'EXPERIMENT', id: 856123119\n",
      "ic| stimulus_presentations.shape: (4801, 11)\n",
      "ic| 'EXPERIMENT', id: 856123117\n",
      "ic| stimulus_presentations.shape: (4801, 11)\n",
      "ic| all_stimulus_presentations.shape: (48014, 12)\n",
      "ic| cre_line: 'Sst-IRES-Cre'\n",
      "    experience_level: 'Familiar'\n",
      "    session_type: 'OPHYS_3_images_A'\n",
      "    data_type: 'eye_tracking'\n",
      "ic| selected_experiments_ids: [958527471,\n",
      "                               956941844,\n",
      "                               958741222,\n",
      "                               1076808562,\n",
      "                               1076808559,\n",
      "                               871196365,\n",
      "                               977978319,\n",
      "                               977978323,\n",
      "                               856123119,\n",
      "                               856123117]\n",
      "ic| 'EXPERIMENT', id: 958527471\n",
      "ic| eye_tracking.shape: (136732, 5)\n",
      "ic| 'EXPERIMENT', id: 956941844\n",
      "ic| eye_tracking.shape: (139743, 5)\n",
      "ic| 'EXPERIMENT', id: 958741222\n",
      "ic| eye_tracking.shape: (135890, 5)\n",
      "ic| 'EXPERIMENT', id: 1076808562\n",
      "ic| eye_tracking.shape: (158160, 5)\n",
      "ic| 'EXPERIMENT', id: 1076808559\n",
      "ic| eye_tracking.shape: (158160, 5)\n",
      "ic| 'EXPERIMENT', id: 871196365\n",
      "ic| eye_tracking.shape: (137377, 5)\n",
      "ic| 'EXPERIMENT', id: 977978319\n",
      "ic| eye_tracking.shape: (137841, 5)\n",
      "ic| 'EXPERIMENT', id: 977978323\n",
      "ic| eye_tracking.shape: (137841, 5)\n",
      "ic| 'EXPERIMENT', id: 856123119\n",
      "ic| eye_tracking.shape: (137268, 5)\n",
      "ic| 'EXPERIMENT', id: 856123117\n",
      "ic| eye_tracking.shape: (137268, 5)\n",
      "ic| all_eye_tracking.shape: (1416280, 6)\n",
      "ic| cre_line: 'Sst-IRES-Cre'\n",
      "    experience_level: 'Familiar'\n",
      "    session_type: 'OPHYS_3_images_A'\n",
      "    data_type: 'trials'\n",
      "ic| selected_experiments_ids: [958527471,\n",
      "                               956941844,\n",
      "                               958741222,\n",
      "                               1076808562,\n",
      "                               1076808559,\n",
      "                               871196365,\n",
      "                               977978319,\n",
      "                               977978323,\n",
      "                               856123119,\n",
      "                               856123117]\n",
      "ic| 'EXPERIMENT', id: 958527471\n",
      "ic| trials.shape: (628, 23)\n",
      "ic| 'EXPERIMENT', id: 956941844\n",
      "ic| trials.shape: (714, 23)\n",
      "ic| 'EXPERIMENT', id: 958741222\n",
      "ic| trials.shape: (753, 23)\n",
      "ic| 'EXPERIMENT', id: 1076808562\n",
      "ic| trials.shape: (549, 23)\n",
      "ic| 'EXPERIMENT', id: 1076808559\n",
      "ic| trials.shape: (549, 23)\n",
      "ic| 'EXPERIMENT', id: 871196365\n",
      "ic| trials.shape: (1132, 23)\n",
      "ic| 'EXPERIMENT', id: 977978319\n",
      "ic| trials.shape: (917, 23)\n",
      "ic| 'EXPERIMENT', id: 977978323\n",
      "ic| trials.shape: (917, 23)\n",
      "ic| 'EXPERIMENT', id: 856123119\n"
     ]
    }
   ]
  }
 ]
}