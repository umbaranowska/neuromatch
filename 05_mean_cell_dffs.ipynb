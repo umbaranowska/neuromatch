{
 "cells": [
  {
   "cell_type": "code",
   "execution_count": 16,
   "outputs": [],
   "source": [
    "import os\n",
    "\n",
    "import pandas as pd\n",
    "import numpy as np\n",
    "from icecream import ic\n",
    "from tqdm import tqdm\n",
    "\n",
    "from event_triggered_response import *"
   ],
   "metadata": {
    "collapsed": false,
    "pycharm": {
     "name": "#%%\n"
    }
   }
  },
  {
   "cell_type": "code",
   "execution_count": 17,
   "outputs": [
    {
     "data": {
      "text/plain": "   ophys_experiment_id  ophys_session_id  ophys_container_id  mouse_id  \\\n0            951980473         951410079          1018028345    457841   \n1            953659743         952430817          1018028345    457841   \n2            958527471         954954402          1018028345    457841   \n3            956941844         955775716          1018028345    457841   \n4            957759564         957020350          1018028345    457841   \n\n       cre_line              session_type  imaging_depth experience_level  \n0  Sst-IRES-Cre          OPHYS_1_images_A            225         Familiar  \n1  Sst-IRES-Cre  OPHYS_2_images_A_passive            225         Familiar  \n2  Sst-IRES-Cre          OPHYS_3_images_A            225         Familiar  \n3  Sst-IRES-Cre          OPHYS_3_images_A            225         Familiar  \n4  Sst-IRES-Cre          OPHYS_4_images_B            225          Novel 1  ",
      "text/html": "<div>\n<style scoped>\n    .dataframe tbody tr th:only-of-type {\n        vertical-align: middle;\n    }\n\n    .dataframe tbody tr th {\n        vertical-align: top;\n    }\n\n    .dataframe thead th {\n        text-align: right;\n    }\n</style>\n<table border=\"1\" class=\"dataframe\">\n  <thead>\n    <tr style=\"text-align: right;\">\n      <th></th>\n      <th>ophys_experiment_id</th>\n      <th>ophys_session_id</th>\n      <th>ophys_container_id</th>\n      <th>mouse_id</th>\n      <th>cre_line</th>\n      <th>session_type</th>\n      <th>imaging_depth</th>\n      <th>experience_level</th>\n    </tr>\n  </thead>\n  <tbody>\n    <tr>\n      <th>0</th>\n      <td>951980473</td>\n      <td>951410079</td>\n      <td>1018028345</td>\n      <td>457841</td>\n      <td>Sst-IRES-Cre</td>\n      <td>OPHYS_1_images_A</td>\n      <td>225</td>\n      <td>Familiar</td>\n    </tr>\n    <tr>\n      <th>1</th>\n      <td>953659743</td>\n      <td>952430817</td>\n      <td>1018028345</td>\n      <td>457841</td>\n      <td>Sst-IRES-Cre</td>\n      <td>OPHYS_2_images_A_passive</td>\n      <td>225</td>\n      <td>Familiar</td>\n    </tr>\n    <tr>\n      <th>2</th>\n      <td>958527471</td>\n      <td>954954402</td>\n      <td>1018028345</td>\n      <td>457841</td>\n      <td>Sst-IRES-Cre</td>\n      <td>OPHYS_3_images_A</td>\n      <td>225</td>\n      <td>Familiar</td>\n    </tr>\n    <tr>\n      <th>3</th>\n      <td>956941844</td>\n      <td>955775716</td>\n      <td>1018028345</td>\n      <td>457841</td>\n      <td>Sst-IRES-Cre</td>\n      <td>OPHYS_3_images_A</td>\n      <td>225</td>\n      <td>Familiar</td>\n    </tr>\n    <tr>\n      <th>4</th>\n      <td>957759564</td>\n      <td>957020350</td>\n      <td>1018028345</td>\n      <td>457841</td>\n      <td>Sst-IRES-Cre</td>\n      <td>OPHYS_4_images_B</td>\n      <td>225</td>\n      <td>Novel 1</td>\n    </tr>\n  </tbody>\n</table>\n</div>"
     },
     "execution_count": 17,
     "metadata": {},
     "output_type": "execute_result"
    }
   ],
   "source": [
    "multiscope_experiment_table = pd.read_csv('multiscope_experiment_table_filtered.csv', index_col='ophys_experiment_id').reset_index().drop(columns = ['Unnamed: 0'])\n",
    "multiscope_experiment_table.head()"
   ],
   "metadata": {
    "collapsed": false,
    "pycharm": {
     "name": "#%%\n"
    }
   }
  },
  {
   "cell_type": "code",
   "execution_count": 18,
   "outputs": [
    {
     "name": "stderr",
     "output_type": "stream",
     "text": [
      "100%|██████████| 25/25 [02:47<00:00,  6.69s/it]\n"
     ]
    }
   ],
   "source": [
    "if not os.path.exists('mean_cell_etr_data'):\n",
    "    os.mkdir('mean_cell_etr_data')\n",
    "\n",
    "all_cell_etr_files = os.listdir('cell_etr_data')\n",
    "\n",
    "all_experiments = []\n",
    "all_cells = []\n",
    "\n",
    "for filename in all_cell_etr_files:\n",
    "    split = filename.replace('.csv', '').split('_')\n",
    "    all_experiments.append(int(split[0]))\n",
    "    all_cells.append(int(split[1]))\n",
    "\n",
    "all_experiments = list(set(all_experiments))\n",
    "\n",
    "for id in tqdm(all_experiments):\n",
    "    one_experiment = [x for x in all_cell_etr_files if str(x).find(str(id)) == 0]\n",
    "    one_experiment_etr = []\n",
    "    for x in one_experiment:\n",
    "        one_etr = pd.read_csv(f'cell_etr_data/{x}').drop(columns = ['Unnamed: 0'])\n",
    "        one_experiment_etr.append(one_etr)\n",
    "    one_experiment_etr = pd.concat(one_experiment_etr)\n",
    "    one_experiment_etr.groupby(['ophys_experiment_id', 'cell_specimen_id', 'time'])['dff'].mean()\\\n",
    "        .reset_index()\\\n",
    "        .merge(multiscope_experiment_table, on = 'ophys_experiment_id', how = 'left')\\\n",
    "        .to_csv(f'mean_cell_etr_data/{id}.csv')"
   ],
   "metadata": {
    "collapsed": false,
    "pycharm": {
     "name": "#%%\n"
    }
   }
  }
 ],
 "metadata": {
  "kernelspec": {
   "display_name": "Python 3",
   "language": "python",
   "name": "python3"
  },
  "language_info": {
   "codemirror_mode": {
    "name": "ipython",
    "version": 2
   },
   "file_extension": ".py",
   "mimetype": "text/x-python",
   "name": "python",
   "nbconvert_exporter": "python",
   "pygments_lexer": "ipython2",
   "version": "2.7.6"
  }
 },
 "nbformat": 4,
 "nbformat_minor": 0
}